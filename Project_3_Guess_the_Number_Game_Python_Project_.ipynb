{
  "nbformat": 4,
  "nbformat_minor": 0,
  "metadata": {
    "colab": {
      "private_outputs": true,
      "provenance": [],
      "authorship_tag": "ABX9TyNFdUXt6/x2ZyEiB+MGkVP6",
      "include_colab_link": true
    },
    "kernelspec": {
      "name": "python3",
      "display_name": "Python 3"
    },
    "language_info": {
      "name": "python"
    }
  },
  "cells": [
    {
      "cell_type": "markdown",
      "metadata": {
        "id": "view-in-github",
        "colab_type": "text"
      },
      "source": [
        "<a href=\"https://colab.research.google.com/github/faizamairaj/Compulsory-Project-to-be-Submitted-by-the-Students./blob/main/Project_3_Guess_the_Number_Game_Python_Project_.ipynb\" target=\"_parent\"><img src=\"https://colab.research.google.com/assets/colab-badge.svg\" alt=\"Open In Colab\"/></a>"
      ]
    },
    {
      "cell_type": "code",
      "source": [
        "import random\n",
        "\n",
        "print(\"Computer ne ek secret number socha hai!🧠 Ab usay guess karo: 🤔\")\n",
        "secret_number = random.randint(1, 10)\n",
        "\n",
        "while True:\n",
        "    try:\n",
        "        user_input = int(input(\"Apna andaza lagao (1-10): \"))\n",
        "\n",
        "        if user_input == secret_number:\n",
        "            print(\"Bingo! 🎉 Tumne sahi guess kar liya! ✅\")\n",
        "            break\n",
        "        elif user_input < secret_number:\n",
        "            print(\"Bara socho 😊\")\n",
        "        else:\n",
        "            print(\"Chota socho 😊\")\n",
        "\n",
        "    except ValueError:\n",
        "        print(\"Invalid input. Please enter a number between 1-10.\")\n",
        "\n",
        "\n",
        "\n",
        "\n",
        "\n",
        "\n"
      ],
      "metadata": {
        "id": "zD4adubiKYDG"
      },
      "execution_count": null,
      "outputs": []
    }
  ]
}