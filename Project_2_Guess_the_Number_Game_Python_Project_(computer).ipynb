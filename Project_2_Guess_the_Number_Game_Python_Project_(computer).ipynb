{
  "nbformat": 4,
  "nbformat_minor": 0,
  "metadata": {
    "colab": {
      "provenance": [],
      "authorship_tag": "ABX9TyPzQv8QS3cjfre92UbjGdLT",
      "include_colab_link": true
    },
    "kernelspec": {
      "name": "python3",
      "display_name": "Python 3"
    },
    "language_info": {
      "name": "python"
    }
  },
  "cells": [
    {
      "cell_type": "markdown",
      "metadata": {
        "id": "view-in-github",
        "colab_type": "text"
      },
      "source": [
        "<a href=\"https://colab.research.google.com/github/faizamairaj/Compulsory-Project-to-be-Submitted-by-the-Students./blob/main/Project_2_Guess_the_Number_Game_Python_Project_(computer).ipynb\" target=\"_parent\"><img src=\"https://colab.research.google.com/assets/colab-badge.svg\" alt=\"Open In Colab\"/></a>"
      ]
    },
    {
      "cell_type": "code",
      "execution_count": null,
      "metadata": {
        "id": "CEpMk3VZ_7Uq"
      },
      "outputs": [],
      "source": []
    },
    {
      "cell_type": "markdown",
      "source": [
        "# **Guess the Number Game Python Project (computer)**\n",
        "\n"
      ],
      "metadata": {
        "id": "R9gyiddUAEhT"
      }
    },
    {
      "cell_type": "code",
      "source": [],
      "metadata": {
        "id": "D7uEsjKXYLCH"
      },
      "execution_count": null,
      "outputs": []
    },
    {
      "cell_type": "code",
      "source": [
        "import random\n",
        "print(\"Socho ek secret number 1 se 10 ke beech! 🤔\")\n",
        "user_input = int(input(\"Apna secret number likho (Computer isko guess karega): \"))\n",
        "\n",
        "computer_num = random.randint(1,10)\n",
        "print(f\"Computer ka pehla guess hai: {computer_num}\")\n",
        "\n",
        "while True:\n",
        " feedback = input(\"Kya yeh guess sahi hai? (bara/chhota/sahi):\")\n",
        " if feedback == \"sahi\":\n",
        "    print(\"Yay! 🎉 Computer ne sahi guess kar liya! ✅\")\n",
        "    break\n",
        " elif feedback == \"chhota\":\n",
        "    print(\"Too Low..\")\n",
        " elif feedback == \"bara\":\n",
        "   print(\"Too High...\")\n",
        " else:\n",
        "   print(\"Galat input! Sirf 'bara', 'chhota' ya 'sahi' likho.\")\n",
        "   continue\n",
        " computer_num = random.randint(1,10)\n",
        " print(f\"Computer ka naya guess hai:{computer_num}\")\n",
        "\n",
        "\n"
      ],
      "metadata": {
        "colab": {
          "base_uri": "https://localhost:8080/"
        },
        "id": "sLoQZJwVCIK3",
        "outputId": "e2eefd41-a0aa-4285-a914-01bfde5e0c5c"
      },
      "execution_count": 25,
      "outputs": [
        {
          "output_type": "stream",
          "name": "stdout",
          "text": [
            "Socho ek secret number 1 se 10 ke beech! 🤔\n",
            "Apna secret number likho (Computer isko guess karega): 6\n",
            "Computer ka pehla guess hai: 2\n",
            "Kya yeh guess sahi hai? (bara/chhota/sahi):chhota\n",
            "Too Low..\n",
            "Computer ka naya guess hai:6\n",
            "Kya yeh guess sahi hai? (bara/chhota/sahi):bara\n",
            "Too High...\n",
            "Computer ka naya guess hai:2\n",
            "Kya yeh guess sahi hai? (bara/chhota/sahi):chhota\n",
            "Too Low..\n",
            "Computer ka naya guess hai:10\n",
            "Kya yeh guess sahi hai? (bara/chhota/sahi):bara\n",
            "Too High...\n",
            "Computer ka naya guess hai:4\n",
            "Kya yeh guess sahi hai? (bara/chhota/sahi):chhota\n",
            "Too Low..\n",
            "Computer ka naya guess hai:5\n",
            "Kya yeh guess sahi hai? (bara/chhota/sahi):chhota\n",
            "Too Low..\n",
            "Computer ka naya guess hai:9\n",
            "Kya yeh guess sahi hai? (bara/chhota/sahi):bara\n",
            "Too High...\n",
            "Computer ka naya guess hai:10\n",
            "Kya yeh guess sahi hai? (bara/chhota/sahi):bara\n",
            "Too High...\n",
            "Computer ka naya guess hai:5\n",
            "Kya yeh guess sahi hai? (bara/chhota/sahi):chhota\n",
            "Too Low..\n",
            "Computer ka naya guess hai:9\n",
            "Kya yeh guess sahi hai? (bara/chhota/sahi):bara\n",
            "Too High...\n",
            "Computer ka naya guess hai:5\n",
            "Kya yeh guess sahi hai? (bara/chhota/sahi):sahi\n",
            "Yay! 🎉 Computer ne sahi guess kar liya! ✅\n"
          ]
        }
      ]
    }
  ]
}