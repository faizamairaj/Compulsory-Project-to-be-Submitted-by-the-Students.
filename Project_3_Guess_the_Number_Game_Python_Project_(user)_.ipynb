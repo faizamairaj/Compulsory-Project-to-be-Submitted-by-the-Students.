{
  "nbformat": 4,
  "nbformat_minor": 0,
  "metadata": {
    "colab": {
      "private_outputs": true,
      "provenance": [],
      "authorship_tag": "ABX9TyM+Q9WquEflhj8whXu4gHs1",
      "include_colab_link": true
    },
    "kernelspec": {
      "name": "python3",
      "display_name": "Python 3"
    },
    "language_info": {
      "name": "python"
    }
  },
  "cells": [
    {
      "cell_type": "markdown",
      "metadata": {
        "id": "view-in-github",
        "colab_type": "text"
      },
      "source": [
        "<a href=\"https://colab.research.google.com/github/faizamairaj/Compulsory-Project-to-be-Submitted-by-the-Students./blob/main/Project_3_Guess_the_Number_Game_Python_Project_(user)_.ipynb\" target=\"_parent\"><img src=\"https://colab.research.google.com/assets/colab-badge.svg\" alt=\"Open In Colab\"/></a>"
      ]
    },
    {
      "cell_type": "markdown",
      "source": [
        "** Guess the Number Game (user)**"
      ],
      "metadata": {
        "id": "TyoSnQ1g3Kgd"
      }
    },
    {
      "cell_type": "code",
      "source": [
        "import random\n",
        "print(\"Computer ne ek secret number socha hai! 🧠 Ab usay guess karo! 🔢\")\n",
        "secret_number = random.randint(1,10)\n",
        "try:\n",
        " while True:\n",
        "   user_input = int(input(\"Apna andaza lagao (1-10): \"))\n",
        "   if user_input == secret_number:\n",
        "     print(\"Bingo! 🎉 Tumne sahi guess kar liya! ✅\")\n",
        "     break\n",
        "   elif user_input < secret_number:\n",
        "     print(\"Bara socho! 📈\")\n",
        "   elif user_input > secret_number:\n",
        "      print(\"Chota socho 👀\")\n",
        "except ValueError:\n",
        "    print(\"Invalid Input\")"
      ],
      "metadata": {
        "id": "Z5VGah5TGhIn"
      },
      "execution_count": null,
      "outputs": []
    }
  ]
}