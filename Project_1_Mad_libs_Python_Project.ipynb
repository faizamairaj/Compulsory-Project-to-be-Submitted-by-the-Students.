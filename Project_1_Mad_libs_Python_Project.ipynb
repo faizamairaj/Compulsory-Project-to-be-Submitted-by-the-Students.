{
  "nbformat": 4,
  "nbformat_minor": 0,
  "metadata": {
    "colab": {
      "provenance": [],
      "authorship_tag": "ABX9TyMOxa2dAlpUHs4jkxdrObNe",
      "include_colab_link": true
    },
    "kernelspec": {
      "name": "python3",
      "display_name": "Python 3"
    },
    "language_info": {
      "name": "python"
    }
  },
  "cells": [
    {
      "cell_type": "markdown",
      "metadata": {
        "id": "view-in-github",
        "colab_type": "text"
      },
      "source": [
        "<a href=\"https://colab.research.google.com/github/faizamairaj/Compulsory-Project-to-be-Submitted-by-the-Students./blob/main/Project_1_Mad_libs_Python_Project.ipynb\" target=\"_parent\"><img src=\"https://colab.research.google.com/assets/colab-badge.svg\" alt=\"Open In Colab\"/></a>"
      ]
    },
    {
      "cell_type": "code",
      "execution_count": 3,
      "metadata": {
        "id": "CEpMk3VZ_7Uq",
        "colab": {
          "base_uri": "https://localhost:8080/"
        },
        "outputId": "a3b69640-8eae-46fa-ac53-fda844a28489"
      },
      "outputs": [
        {
          "output_type": "stream",
          "name": "stdout",
          "text": [
            "Enter your name: Ali\n",
            "Enter your city name: Karachi\n",
            "Enter verb: chhup\n",
            "Enter your favourite animal: hathi\n",
            "Enter adjective: darpoak\n",
            "Ek din, Ali Karachi gaya. Wahan usne ek darpoak hathi dekha. Jo chhup raha tha. ye dekh kar, Ali bohot hairan hua!\n"
          ]
        }
      ],
      "source": [
        "def Madlibs():\n",
        "  name = str (input(\"Enter your name: \"))\n",
        "  city = str (input(\"Enter your city name: \"))\n",
        "  verb = str (input(\"Enter verb: \"))\n",
        "  animal = str (input(\"Enter your favourite animal: \"))\n",
        "  adjective = str (input(\"Enter adjective: \"))\n",
        "\n",
        "# story\n",
        "  story = (f\"Ek din, {name} {city} gaya. Wahan usne ek {adjective} {animal} dekha. Jo {verb} raha tha. ye dekh kar, {name} bohot hairan hua!\")\n",
        "  print(story)\n",
        "Madlibs()\n",
        "\n"
      ]
    }
  ]
}